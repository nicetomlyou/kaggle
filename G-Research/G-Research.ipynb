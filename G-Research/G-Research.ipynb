{
 "cells": [
  {
   "cell_type": "code",
   "execution_count": null,
   "metadata": {
    "collapsed": true
   },
   "outputs": [],
   "source": [
    "import numpy as np\n",
    "import pandas as pd\n",
    "import gresearch_crypto\n",
    "env = gresearch_crypto.make_env()\n",
    "iter_test = env.iter_test()\n",
    "df = pd.read_csv('/kaggle/input/g-research-crypto-forecasting/train.csv',\n",
    "                 usecols=['Target', 'Asset_ID','timestamp'], dtype={'Asset_ID': 'int8'})\n",
    "df['datetime'] = pd.to_datetime(df['timestamp'], unit='s')\n",
    "df = df.set_index('datetime').drop('timestamp', axis=1)\n",
    "df = df[(df.index.year == 2021) & (df.index.month > 5)]\n",
    "dfs = {asset_id: df[df['Asset_ID'] == asset_id].resample('1min').interpolate().copy() for asset_id in df['Asset_ID'].unique()}\n",
    "del df\n",
    "for df_test, df_pred in iter_test:\n",
    "    df_test['datetime'] = pd.to_datetime(df_test['timestamp'], unit='s')\n",
    "    for _, row in df_test.iterrows():\n",
    "        try:\n",
    "            df = dfs[row['Asset_ID']]\n",
    "            closest_train_sample = df.iloc[df.index.get_loc(row['datetime'], method='nearest')]\n",
    "            df_pred.loc[df_pred['row_id'] == row['row_id'], 'Target'] = closest_train_sample['Target']\n",
    "        except:\n",
    "            df_pred.loc[df_pred['row_id'] == row['row_id'], 'Target'] = 0\n",
    "    df_pred['Target'] = df_pred['Target'].fillna(0)\n",
    "    env.predict(df_pred)"
   ]
  }
 ],
 "metadata": {
  "kernelspec": {
   "display_name": "Python 3",
   "language": "python",
   "name": "python3"
  },
  "language_info": {
   "codemirror_mode": {
    "name": "ipython",
    "version": 2
   },
   "file_extension": ".py",
   "mimetype": "text/x-python",
   "name": "python",
   "nbconvert_exporter": "python",
   "pygments_lexer": "ipython2",
   "version": "2.7.6"
  }
 },
 "nbformat": 4,
 "nbformat_minor": 0
}